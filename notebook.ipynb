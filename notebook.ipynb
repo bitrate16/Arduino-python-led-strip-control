{
 "cells": [
  {
   "cell_type": "markdown",
   "metadata": {},
   "source": [
    "#### As usual,\n",
    "\n",
    "    Arduino python led strip control\n",
    "    Copyright (C) 2022 bitrate16 bitrate16@gmail.com\n",
    "\n",
    "    This program is free software: you can redistribute it and/or modify\n",
    "    it under the terms of the GNU General Public License as published by\n",
    "    the Free Software Foundation, either version 3 of the License, or\n",
    "    (at your option) any later version.\n",
    "\n",
    "    This program is distributed in the hope that it will be useful,\n",
    "    but WITHOUT ANY WARRANTY; without even the implied warranty of\n",
    "    MERCHANTABILITY or FITNESS FOR A PARTICULAR PURPOSE.  See the\n",
    "    GNU General Public License for more details.\n",
    "\n",
    "    You should have received a copy of the GNU General Public License\n",
    "    along with this program.  If not, see <https://www.gnu.org/licenses/>."
   ]
  },
  {
   "cell_type": "markdown",
   "metadata": {},
   "source": [
    "## Random flickering animation"
   ]
  },
  {
   "cell_type": "code",
   "execution_count": null,
   "metadata": {},
   "outputs": [],
   "source": [
    "import communicate\n",
    "import random\n",
    "import time\n",
    "\n",
    "# Config\n",
    "SPAWN_DELAY  = 0.1\n",
    "SPAWN_AMOUNT = 2\n",
    "FADE_DECAY   = 10\n",
    "FPS          = 30.0\n",
    "NUM_LEDS     = 60\n",
    "\n",
    "# Logic\n",
    "invFPS = 1.0 / FPS\n",
    "leds = [ [ 0, 0, 0 ] for i in range(NUM_LEDS) ]\n",
    "\n",
    "state = communicate.connect_waiting(baudrate=200000, port='COM4')\n",
    "time.sleep(2)\n",
    "timestamp = time.time()\n",
    "\n",
    "try:\n",
    "\twhile True:\n",
    "\t\tif timestamp + SPAWN_DELAY < time.time():\n",
    "\t\t\tfor i in range(SPAWN_AMOUNT):\n",
    "\t\t\t\tleds[random.randint(0, NUM_LEDS - 1)] = [ random.randint(0, 255), random.randint(0, 255), random.randint(0, 255) ]\n",
    "\t\t\ttimestamp = time.time()\n",
    "\t\t\n",
    "\t\tcommunicate.send_led_state(state, leds, 0)\n",
    "\t\ttime.sleep(invFPS)\n",
    "\t\t\n",
    "\t\tfor l in leds:\n",
    "\t\t\tl[0] = max(0, l[0] - FADE_DECAY)\n",
    "\t\t\tl[1] = max(0, l[1] - FADE_DECAY)\n",
    "\t\t\tl[2] = max(0, l[2] - FADE_DECAY)\n",
    "except:\n",
    "\tcommunicate.close(state)"
   ]
  },
  {
   "cell_type": "markdown",
   "metadata": {},
   "source": [
    "## Ping-Pong dot animation"
   ]
  },
  {
   "cell_type": "code",
   "execution_count": null,
   "metadata": {},
   "outputs": [],
   "source": [
    "import communicate\n",
    "import time\n",
    "\n",
    "# Config\n",
    "FPS      = 60.0\n",
    "NUM_LEDS = 60\n",
    "COLOR    = [ 0, 255, 0 ]\n",
    "\n",
    "# Logic\n",
    "invFPS = 1.0 / FPS\n",
    "leds = [ [ 0, 0, 0 ] for i in range(60) ]\n",
    "zero = [ 0, 0, 0 ]\n",
    "\n",
    "state = communicate.connect_waiting(baudrate=200000, port='COM4')\n",
    "time.sleep(2)\n",
    "timestamp = time.time()\n",
    "\n",
    "try:\n",
    "\twhile True:\n",
    "\t\tfor i in range(NUM_LEDS):\n",
    "\t\t\tleds[i] = COLOR\n",
    "\t\t\tcommunicate.send_led_state(state, leds, 0)\n",
    "\t\t\ttime.sleep(invFPS)\n",
    "\t\t\tleds[i] = zero\n",
    "\t\t\n",
    "\t\tfor i in reversed(range(NUM_LEDS)):\n",
    "\t\t\tleds[i] = COLOR\n",
    "\t\t\tcommunicate.send_led_state(state, leds, 0)\n",
    "\t\t\ttime.sleep(invFPS)\n",
    "\t\t\tleds[i] = zero\n",
    "except:\n",
    "\tcommunicate.close(state)"
   ]
  },
  {
   "cell_type": "markdown",
   "metadata": {},
   "source": [
    "## Random colors"
   ]
  },
  {
   "cell_type": "code",
   "execution_count": null,
   "metadata": {},
   "outputs": [],
   "source": [
    "import communicate\n",
    "import random\n",
    "import time\n",
    "\n",
    "# Config\n",
    "FPS      = 60.0\n",
    "NUM_LEDS = 60\n",
    "\n",
    "# Logic\n",
    "invFPS = 1.0 / FPS\n",
    "\n",
    "state = communicate.connect_waiting(baudrate=200000, port='COM4')\n",
    "time.sleep(2)\n",
    "timestamp = time.time()\n",
    "\n",
    "def random_list():\n",
    "\treturn [ [ random.randint(0, 255), random.randint(0, 255), random.randint(0, 255) ] for i in range(NUM_LEDS) ]\n",
    "\n",
    "try:\n",
    "\twhile True:\n",
    "\t\tcommunicate.send_led_state(state, random_list(), 0)\n",
    "\t\ttime.sleep(invFPS)\n",
    "except:\n",
    "\tcommunicate.close(state)"
   ]
  }
 ],
 "metadata": {
  "interpreter": {
   "hash": "ac59ebe37160ed0dfa835113d9b8498d9f09ceb179beaac4002f036b9467c963"
  },
  "kernelspec": {
   "display_name": "Python 3.9.6 64-bit",
   "language": "python",
   "name": "python3"
  },
  "language_info": {
   "codemirror_mode": {
    "name": "ipython",
    "version": 3
   },
   "file_extension": ".py",
   "mimetype": "text/x-python",
   "name": "python",
   "nbconvert_exporter": "python",
   "pygments_lexer": "ipython3",
   "version": "3.9.6"
  },
  "orig_nbformat": 4
 },
 "nbformat": 4,
 "nbformat_minor": 2
}
